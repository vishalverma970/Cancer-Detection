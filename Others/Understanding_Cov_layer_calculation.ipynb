{
 "cells": [
  {
   "cell_type": "code",
   "execution_count": 1,
   "id": "edee49c4",
   "metadata": {},
   "outputs": [],
   "source": [
    "import numpy as np"
   ]
  },
  {
   "cell_type": "markdown",
   "id": "635c7cd8",
   "metadata": {},
   "source": [
    "Suppose that the input volume is a numpy array X.\n",
    "\n",
    "\n",
    "with shape 11,11,4"
   ]
  },
  {
   "cell_type": "code",
   "execution_count": 7,
   "id": "0f81a420",
   "metadata": {},
   "outputs": [],
   "source": [
    "X = np.random.randint(low = 0, high = 225,size = [11,11,4])"
   ]
  },
  {
   "cell_type": "code",
   "execution_count": 28,
   "id": "79c342a2",
   "metadata": {},
   "outputs": [
    {
     "data": {
      "text/plain": [
       "array([[[ 64, 159,  72, 132],\n",
       "        [139,   9,  66,  62],\n",
       "        [ 11,  39, 155,  36],\n",
       "        [ 45, 193,  68,  14],\n",
       "        [133,  56, 158, 219],\n",
       "        [121, 190, 203,  26],\n",
       "        [157,  11, 131, 106],\n",
       "        [201, 190, 180, 218],\n",
       "        [ 32, 181, 188,  97],\n",
       "        [ 66, 165,  37, 163],\n",
       "        [102, 200,  91, 164]],\n",
       "\n",
       "       [[ 25,   8, 128, 193],\n",
       "        [ 61, 150, 150, 211],\n",
       "        [ 12,  53,  64,  64],\n",
       "        [131,   7, 148,   0],\n",
       "        [166,  78, 184, 198],\n",
       "        [156, 152,  48,  98],\n",
       "        [173,  39,  81, 119],\n",
       "        [ 29, 128,   8, 197],\n",
       "        [177,  48, 217, 195],\n",
       "        [125, 206, 156, 213],\n",
       "        [219, 163, 215, 145]],\n",
       "\n",
       "       [[140,  24, 211, 186],\n",
       "        [211,  95, 168,  67],\n",
       "        [ 18, 112, 101,   7],\n",
       "        [ 20, 153, 113, 110],\n",
       "        [106, 142,  26, 172],\n",
       "        [ 21,   6,  80,  36],\n",
       "        [ 20, 137,  73, 127],\n",
       "        [ 79,  46,  49, 127],\n",
       "        [194,  65,  67, 220],\n",
       "        [217,  66,  25,   0],\n",
       "        [ 72, 100, 204,  32]],\n",
       "\n",
       "       [[165, 170, 188,  37],\n",
       "        [ 37,  81, 181, 134],\n",
       "        [ 75,  49,  18, 203],\n",
       "        [167, 151, 177, 170],\n",
       "        [183, 218, 101, 166],\n",
       "        [125,  82,   2,  25],\n",
       "        [159, 189,  37, 157],\n",
       "        [214,  67, 100, 215],\n",
       "        [216, 199,  71,  96],\n",
       "        [180, 216, 148,  22],\n",
       "        [ 88, 133, 112, 121]],\n",
       "\n",
       "       [[220,  66, 215,  22],\n",
       "        [190, 126,  45, 173],\n",
       "        [180,  64, 222, 159],\n",
       "        [ 37,  64, 192, 165],\n",
       "        [178,  16,  70, 107],\n",
       "        [ 88, 162,  34,  81],\n",
       "        [180,  63,   5, 179],\n",
       "        [ 56, 224, 102,  77],\n",
       "        [ 71,  89,   4,  55],\n",
       "        [189,  39,  41, 141],\n",
       "        [121,  83,  36, 143]],\n",
       "\n",
       "       [[ 27,   0, 194,  29],\n",
       "        [120, 203, 145, 146],\n",
       "        [153,  67, 198, 217],\n",
       "        [ 83, 205, 148,   1],\n",
       "        [ 80, 172,  39, 153],\n",
       "        [201, 207, 213,  11],\n",
       "        [210, 158,   2,  60],\n",
       "        [110,  26,  64, 197],\n",
       "        [164,  13, 152, 145],\n",
       "        [164,  76, 194,  70],\n",
       "        [199, 135, 213,  74]],\n",
       "\n",
       "       [[159,  18, 150, 150],\n",
       "        [205, 202, 205,  99],\n",
       "        [190, 184, 159, 182],\n",
       "        [ 78, 126, 210,  15],\n",
       "        [117, 163,  67,  23],\n",
       "        [173,  85, 148,  70],\n",
       "        [ 47,  83, 205,  51],\n",
       "        [ 76,  22, 203,  86],\n",
       "        [118, 125,  35,  56],\n",
       "        [105, 134, 135,   2],\n",
       "        [127, 210,  85, 106]],\n",
       "\n",
       "       [[191, 192,  86, 138],\n",
       "        [  0, 144,  59,  72],\n",
       "        [167,  99,  33, 145],\n",
       "        [128, 150,  27,  28],\n",
       "        [ 53, 221, 216, 190],\n",
       "        [145, 224, 220, 139],\n",
       "        [ 62,  26, 154,  23],\n",
       "        [ 38,  84,   9, 141],\n",
       "        [ 12,  49, 138,  60],\n",
       "        [ 30, 200, 220, 162],\n",
       "        [152,  45,  80,  60]],\n",
       "\n",
       "       [[156, 158,  62, 160],\n",
       "        [ 99, 213, 160,  49],\n",
       "        [154, 130, 180, 155],\n",
       "        [  2,  27,  38, 131],\n",
       "        [ 62,  98,  33, 117],\n",
       "        [125,  50,   7, 139],\n",
       "        [161,  87,  15,  91],\n",
       "        [ 80, 125, 150,  54],\n",
       "        [117, 189, 181, 143],\n",
       "        [169,  96, 139,   5],\n",
       "        [ 38, 138, 217, 209]],\n",
       "\n",
       "       [[  9, 114, 123,  79],\n",
       "        [156,   0,  69,  32],\n",
       "        [199, 157,   2,  78],\n",
       "        [ 42, 171, 127,  33],\n",
       "        [193,  37, 221,  36],\n",
       "        [ 42, 217,  19,  32],\n",
       "        [206, 184, 159,  94],\n",
       "        [199,  98,  73, 112],\n",
       "        [219,  33,  94, 215],\n",
       "        [100,  83, 169, 115],\n",
       "        [147,  24, 198, 114]],\n",
       "\n",
       "       [[200,  95,  45,  78],\n",
       "        [160, 155, 110, 113],\n",
       "        [ 41, 149,  13, 100],\n",
       "        [102,  27, 172, 136],\n",
       "        [  8, 120,  10, 154],\n",
       "        [ 26, 174, 173,  33],\n",
       "        [186,  78,  70, 182],\n",
       "        [ 66,  39,  38,  28],\n",
       "        [ 89,  11,  88,  30],\n",
       "        [185, 121,  65,  38],\n",
       "        [ 39, 113, 190, 155]]])"
      ]
     },
     "execution_count": 28,
     "metadata": {},
     "output_type": "execute_result"
    }
   ],
   "source": [
    "X"
   ]
  },
  {
   "cell_type": "code",
   "execution_count": 10,
   "id": "5ed6ede6",
   "metadata": {
    "scrolled": true
   },
   "outputs": [
    {
     "data": {
      "text/plain": [
       "(11, 11, 4)"
      ]
     },
     "execution_count": 10,
     "metadata": {},
     "output_type": "execute_result"
    }
   ],
   "source": [
    "X.shape"
   ]
  },
  {
   "cell_type": "markdown",
   "id": "50bd8cdb",
   "metadata": {},
   "source": [
    "Suppose further that we use no zero padding (P=0), \n",
    "that the filter size is F=5\n",
    "and that the stride is S=2."
   ]
  },
  {
   "cell_type": "code",
   "execution_count": 11,
   "id": "ee5fd19c",
   "metadata": {},
   "outputs": [
    {
     "name": "stdout",
     "output_type": "stream",
     "text": [
      "output layer size is : 4.0\n"
     ]
    }
   ],
   "source": [
    "p = 0\n",
    "f = 5\n",
    "s = 2\n",
    "\n",
    "print('output layer size is : {}'.format(((x.shape[0]- f + 2*p)/s)+1))"
   ]
  },
  {
   "cell_type": "markdown",
   "id": "f9399b02",
   "metadata": {},
   "source": [
    "output layer shape will be 4X4Xnumber of filter"
   ]
  },
  {
   "cell_type": "code",
   "execution_count": 14,
   "id": "e79572e0",
   "metadata": {},
   "outputs": [],
   "source": [
    "W0 = np.random.rand(5,5,4)"
   ]
  },
  {
   "cell_type": "code",
   "execution_count": 17,
   "id": "ebaebd79",
   "metadata": {},
   "outputs": [],
   "source": [
    "b0 = np.random.rand(1)"
   ]
  },
  {
   "cell_type": "markdown",
   "id": "573d41bc",
   "metadata": {},
   "source": [
    "shape of output vector will be 4*4"
   ]
  },
  {
   "cell_type": "code",
   "execution_count": 25,
   "id": "ce1ecea8",
   "metadata": {},
   "outputs": [],
   "source": [
    "V = np.zeros([4,4,2])"
   ]
  },
  {
   "cell_type": "code",
   "execution_count": null,
   "id": "f37dd8e8",
   "metadata": {},
   "outputs": [],
   "source": []
  },
  {
   "cell_type": "markdown",
   "id": "9f18852a",
   "metadata": {},
   "source": [
    "## New Example"
   ]
  },
  {
   "cell_type": "code",
   "execution_count": 166,
   "id": "ce2a69ac",
   "metadata": {},
   "outputs": [],
   "source": [
    "X = np.array([[[0,0,1],\n",
    "               [1,0,1],\n",
    "               [2,1,2],\n",
    "               [2,0,0],\n",
    "               [0,0,2]],\n",
    "              \n",
    "              [[1,1,2],\n",
    "               [1,2,0],\n",
    "               [2,2,0],\n",
    "               [0,2,1],\n",
    "               [0,0,1]],\n",
    "              \n",
    "              [[1,0,2],\n",
    "               [2,2,2],\n",
    "               [1,1,0],\n",
    "               [1,0,2],\n",
    "               [0,2,1]],\n",
    "              \n",
    "              [[2,2,0],\n",
    "               [1,0,0],\n",
    "               [0,0,1],\n",
    "               [0,1,1],\n",
    "               [0,0,2]],              \n",
    "              \n",
    "              [[0,2,1],\n",
    "               [2,0,0],\n",
    "               [1,0,1],\n",
    "               [2,2,1],\n",
    "               [2,1,0]]])"
   ]
  },
  {
   "cell_type": "markdown",
   "id": "437c4c1b",
   "metadata": {},
   "source": [
    "Red Matrix"
   ]
  },
  {
   "cell_type": "code",
   "execution_count": 167,
   "id": "fe6908b6",
   "metadata": {},
   "outputs": [
    {
     "data": {
      "text/plain": [
       "array([[0, 1, 2, 2, 0],\n",
       "       [1, 1, 2, 0, 0],\n",
       "       [1, 2, 1, 1, 0],\n",
       "       [2, 1, 0, 0, 0],\n",
       "       [0, 2, 1, 2, 2]])"
      ]
     },
     "execution_count": 167,
     "metadata": {},
     "output_type": "execute_result"
    }
   ],
   "source": [
    "X[:,:,0]"
   ]
  },
  {
   "cell_type": "markdown",
   "id": "30a00403",
   "metadata": {},
   "source": [
    "Green Matrix"
   ]
  },
  {
   "cell_type": "code",
   "execution_count": 168,
   "id": "2a1b6b99",
   "metadata": {},
   "outputs": [
    {
     "data": {
      "text/plain": [
       "array([[0, 0, 1, 0, 0],\n",
       "       [1, 2, 2, 2, 0],\n",
       "       [0, 2, 1, 0, 2],\n",
       "       [2, 0, 0, 1, 0],\n",
       "       [2, 0, 0, 2, 1]])"
      ]
     },
     "execution_count": 168,
     "metadata": {},
     "output_type": "execute_result"
    }
   ],
   "source": [
    "X[:,:,1]"
   ]
  },
  {
   "cell_type": "markdown",
   "id": "e20d4ad1",
   "metadata": {},
   "source": [
    "Blue Matrix"
   ]
  },
  {
   "cell_type": "code",
   "execution_count": 169,
   "id": "76365ec2",
   "metadata": {},
   "outputs": [
    {
     "data": {
      "text/plain": [
       "array([[1, 1, 2, 0, 2],\n",
       "       [2, 0, 0, 1, 1],\n",
       "       [2, 2, 0, 2, 1],\n",
       "       [0, 0, 1, 1, 2],\n",
       "       [1, 0, 1, 1, 0]])"
      ]
     },
     "execution_count": 169,
     "metadata": {},
     "output_type": "execute_result"
    }
   ],
   "source": [
    "X[:,:,2]"
   ]
  },
  {
   "cell_type": "markdown",
   "id": "e54577d0",
   "metadata": {},
   "source": [
    "## filter"
   ]
  },
  {
   "cell_type": "markdown",
   "id": "f113caf0",
   "metadata": {},
   "source": [
    "### Filter - 1 W0"
   ]
  },
  {
   "cell_type": "code",
   "execution_count": 170,
   "id": "fcc21581",
   "metadata": {},
   "outputs": [],
   "source": [
    "W0 =  np.array([[[0,1,1],\n",
    "               [-1,0,1],\n",
    "               [1,-1,1]],\n",
    "              \n",
    "              [[0,0,1],\n",
    "               [0,-1,0],\n",
    "               [-1,1,1]],\n",
    "              \n",
    "              [[0,-1,1],\n",
    "               [-1,-1,1],\n",
    "               [1,0,0]]])"
   ]
  },
  {
   "cell_type": "code",
   "execution_count": 171,
   "id": "737bef00",
   "metadata": {},
   "outputs": [
    {
     "data": {
      "text/plain": [
       "array([[ 0, -1,  1],\n",
       "       [ 0,  0, -1],\n",
       "       [ 0, -1,  1]])"
      ]
     },
     "execution_count": 171,
     "metadata": {},
     "output_type": "execute_result"
    }
   ],
   "source": [
    "W0[:,:,0]"
   ]
  },
  {
   "cell_type": "code",
   "execution_count": 172,
   "id": "41503ae5",
   "metadata": {},
   "outputs": [
    {
     "data": {
      "text/plain": [
       "array([[ 1,  0, -1],\n",
       "       [ 0, -1,  1],\n",
       "       [-1, -1,  0]])"
      ]
     },
     "execution_count": 172,
     "metadata": {},
     "output_type": "execute_result"
    }
   ],
   "source": [
    "W0[:,:,1]"
   ]
  },
  {
   "cell_type": "code",
   "execution_count": 173,
   "id": "00c2a760",
   "metadata": {},
   "outputs": [
    {
     "data": {
      "text/plain": [
       "array([[1, 1, 1],\n",
       "       [1, 0, 1],\n",
       "       [1, 1, 0]])"
      ]
     },
     "execution_count": 173,
     "metadata": {},
     "output_type": "execute_result"
    }
   ],
   "source": [
    "W0[:,:,2]"
   ]
  },
  {
   "cell_type": "code",
   "execution_count": 174,
   "id": "70fd1703",
   "metadata": {},
   "outputs": [],
   "source": [
    "pad_x = np.pad(X,((1,1), (1,1), (0, 0)))"
   ]
  },
  {
   "cell_type": "code",
   "execution_count": 175,
   "id": "cd3a87cb",
   "metadata": {},
   "outputs": [],
   "source": [
    "b0 = 1"
   ]
  },
  {
   "cell_type": "code",
   "execution_count": 176,
   "id": "eaf44416",
   "metadata": {},
   "outputs": [],
   "source": [
    "stride1 = 2"
   ]
  },
  {
   "cell_type": "code",
   "execution_count": 202,
   "id": "2ef779a8",
   "metadata": {},
   "outputs": [],
   "source": [
    "V = np.zeros([3,3,1])"
   ]
  },
  {
   "cell_type": "code",
   "execution_count": 203,
   "id": "e0e5afbd",
   "metadata": {},
   "outputs": [],
   "source": [
    "V[0,0,0] = np.sum(pad_x[:3,:3,:] * W0) + b0\n",
    "V[0,1,0] = np.sum(pad_x[:3,2:5,:] * W0) + b0\n",
    "V[0,2,0] = np.sum(pad_x[:3,4:7,:] * W0) + b0\n",
    "\n",
    "V[1,0,0] = np.sum(pad_x[2:5,:3,:] * W0) + b0\n",
    "V[1,1,0] = np.sum(pad_x[2:5,2:5,:] * W0) + b0\n",
    "V[1,2,0] = np.sum(pad_x[2:5,4:7,:] * W0) + b0\n",
    "\n",
    "V[2,0,0] = np.sum(pad_x[4:7,:3,:] * W0) + b0\n",
    "V[2,1,0] = np.sum(pad_x[4:7,2:5,:] * W0) + b0\n",
    "V[2,2,0] = np.sum(pad_x[4:7,4:7,:] * W0) + b0"
   ]
  },
  {
   "cell_type": "code",
   "execution_count": 204,
   "id": "a917ce04",
   "metadata": {},
   "outputs": [
    {
     "data": {
      "text/plain": [
       "array([[ 2., -7.,  1.],\n",
       "       [ 0.,  3.,  7.],\n",
       "       [-4.,  3.,  5.]])"
      ]
     },
     "execution_count": 204,
     "metadata": {},
     "output_type": "execute_result"
    }
   ],
   "source": [
    "V[:,:,0]"
   ]
  },
  {
   "cell_type": "markdown",
   "id": "d5d24152",
   "metadata": {},
   "source": [
    "### Filter - 2 W1"
   ]
  },
  {
   "cell_type": "code",
   "execution_count": 190,
   "id": "9ee25c77",
   "metadata": {},
   "outputs": [],
   "source": [
    "W1 =  np.array([[[0,1,0],\n",
    "               [-1,0,0],\n",
    "               [1,-1,0]],\n",
    "              \n",
    "              [[1,1,-1],\n",
    "               [-1,1,0],\n",
    "               [1,1,-1]],\n",
    "              \n",
    "              [[0,0,0],\n",
    "               [-1,1,-1],\n",
    "               [-1,1,-1]]])"
   ]
  },
  {
   "cell_type": "code",
   "execution_count": 191,
   "id": "59273aa0",
   "metadata": {},
   "outputs": [
    {
     "data": {
      "text/plain": [
       "array([[ 0, -1,  1],\n",
       "       [ 1, -1,  1],\n",
       "       [ 0, -1, -1]])"
      ]
     },
     "execution_count": 191,
     "metadata": {},
     "output_type": "execute_result"
    }
   ],
   "source": [
    "W1[:,:,0]"
   ]
  },
  {
   "cell_type": "code",
   "execution_count": 189,
   "id": "d9fa8eb6",
   "metadata": {},
   "outputs": [
    {
     "data": {
      "text/plain": [
       "array([[ 1,  0, -1],\n",
       "       [ 1,  1,  1],\n",
       "       [ 0,  1,  1]])"
      ]
     },
     "execution_count": 189,
     "metadata": {},
     "output_type": "execute_result"
    }
   ],
   "source": [
    "W1[:,:,1]"
   ]
  },
  {
   "cell_type": "code",
   "execution_count": 165,
   "id": "75fdd152",
   "metadata": {},
   "outputs": [
    {
     "data": {
      "text/plain": [
       "array([[0, 0, 1],\n",
       "       [2, 0, 0],\n",
       "       [0, 1, 1]])"
      ]
     },
     "execution_count": 165,
     "metadata": {},
     "output_type": "execute_result"
    }
   ],
   "source": [
    "pad_x[2:5,2:5,2]"
   ]
  },
  {
   "cell_type": "code",
   "execution_count": 192,
   "id": "7d682b98",
   "metadata": {},
   "outputs": [
    {
     "data": {
      "text/plain": [
       "array([[ 0,  0,  0],\n",
       "       [-1,  0, -1],\n",
       "       [ 0, -1, -1]])"
      ]
     },
     "execution_count": 192,
     "metadata": {},
     "output_type": "execute_result"
    }
   ],
   "source": [
    "W1[:,:,2]"
   ]
  },
  {
   "cell_type": "code",
   "execution_count": 193,
   "id": "cacf6432",
   "metadata": {},
   "outputs": [],
   "source": [
    "b1 = 0"
   ]
  },
  {
   "cell_type": "markdown",
   "id": "d4614639",
   "metadata": {},
   "source": [
    "Conv layer calculation function"
   ]
  },
  {
   "cell_type": "code",
   "execution_count": 215,
   "id": "14f59b88",
   "metadata": {},
   "outputs": [],
   "source": [
    "filter_size1 = 3\n",
    "\n",
    "def cal_conv_layer(filter_size1,weight_mat,bias1,inp_layer,stride_val,padding_val):\n",
    "    v1 = np.zeros([filter_size1,filter_size1,1])\n",
    "    \n",
    "    pad_inp = np.pad(inp_layer,((padding_val,padding_val), (padding_val,padding_val), (0, 0)))\n",
    "    \n",
    "    for i in range(filter_size1):\n",
    "        for j in range(filter_size1):\n",
    "            v1[i,j,0] = np.sum(pad_inp[0 + i*stride_val : filter_size1 + i*stride_val,0 + j*stride_val : filter_size1 + j*stride_val,:] * weight_mat) + bias1\n",
    "    \n",
    "    return v1\n",
    "    "
   ]
  },
  {
   "cell_type": "code",
   "execution_count": 218,
   "id": "37e8b384",
   "metadata": {},
   "outputs": [
    {
     "data": {
      "text/plain": [
       "array([[-1.,  2.,  1.],\n",
       "       [-2., -2.,  1.],\n",
       "       [ 3.,  3.,  3.]])"
      ]
     },
     "execution_count": 218,
     "metadata": {},
     "output_type": "execute_result"
    }
   ],
   "source": [
    "cal_conv_layer(3,W1,b1,X,2,1)[:,:,0]"
   ]
  },
  {
   "cell_type": "code",
   "execution_count": 219,
   "id": "51adec1a",
   "metadata": {},
   "outputs": [
    {
     "data": {
      "text/plain": [
       "array([[ 2., -7.,  1.],\n",
       "       [ 0.,  3.,  7.],\n",
       "       [-4.,  3.,  5.]])"
      ]
     },
     "execution_count": 219,
     "metadata": {},
     "output_type": "execute_result"
    }
   ],
   "source": [
    "cal_conv_layer(3,W0,b0,X,2,1)[:,:,0]"
   ]
  },
  {
   "cell_type": "code",
   "execution_count": null,
   "id": "d7fdb62e",
   "metadata": {},
   "outputs": [],
   "source": []
  }
 ],
 "metadata": {
  "kernelspec": {
   "display_name": "Python 3 (ipykernel)",
   "language": "python",
   "name": "python3"
  },
  "language_info": {
   "codemirror_mode": {
    "name": "ipython",
    "version": 3
   },
   "file_extension": ".py",
   "mimetype": "text/x-python",
   "name": "python",
   "nbconvert_exporter": "python",
   "pygments_lexer": "ipython3",
   "version": "3.8.13"
  }
 },
 "nbformat": 4,
 "nbformat_minor": 5
}
