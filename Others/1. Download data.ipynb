{
 "cells": [
  {
   "cell_type": "code",
   "execution_count": 15,
   "id": "e2bc9d16",
   "metadata": {},
   "outputs": [],
   "source": [
    "import kaggle\n",
    "import json\n",
    "import zipfile\n",
    "import os\n",
    "import pandas as pd"
   ]
  },
  {
   "cell_type": "code",
   "execution_count": 7,
   "id": "a722d0ec",
   "metadata": {},
   "outputs": [],
   "source": [
    "!chmod 600 ~/.kaggle/kaggle.json"
   ]
  },
  {
   "cell_type": "code",
   "execution_count": 8,
   "id": "efeb9dcf",
   "metadata": {},
   "outputs": [],
   "source": [
    "!kaggle competitions download -c histopathologic-cancer-detection --force"
   ]
  },
  {
   "cell_type": "code",
   "execution_count": 26,
   "id": "6946dd5c",
   "metadata": {},
   "outputs": [],
   "source": [
    "zipfile1 = zipfile.ZipFile(r'/Users/vishalverma/Vishal/Kaggle/Cancer detection/Data/histopathologic-cancer-detection.zip')\n"
   ]
  },
  {
   "cell_type": "code",
   "execution_count": 17,
   "id": "c7ead8a4",
   "metadata": {},
   "outputs": [],
   "source": [
    "full_train_df = pd.read_csv(zipfile1.open('train_labels.csv'))"
   ]
  },
  {
   "cell_type": "code",
   "execution_count": 31,
   "id": "8bebac27",
   "metadata": {},
   "outputs": [
    {
     "name": "stdout",
     "output_type": "stream",
     "text": [
      "Train size = 220025\n",
      "Test size = 57458\n"
     ]
    }
   ],
   "source": [
    "print('Train size = {}'.format(sum('train/' in s for s in zipfile1.namelist())))\n",
    "print('Test size = {}'.format(sum('test/' in s for s in zipfile1.namelist())))"
   ]
  },
  {
   "cell_type": "code",
   "execution_count": null,
   "id": "50fe89d1",
   "metadata": {},
   "outputs": [],
   "source": []
  }
 ],
 "metadata": {
  "kernelspec": {
   "display_name": "Python 3 (ipykernel)",
   "language": "python",
   "name": "python3"
  },
  "language_info": {
   "codemirror_mode": {
    "name": "ipython",
    "version": 3
   },
   "file_extension": ".py",
   "mimetype": "text/x-python",
   "name": "python",
   "nbconvert_exporter": "python",
   "pygments_lexer": "ipython3",
   "version": "3.7.13"
  }
 },
 "nbformat": 4,
 "nbformat_minor": 5
}
