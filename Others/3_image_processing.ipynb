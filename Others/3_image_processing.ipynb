{
 "cells": [
  {
   "cell_type": "code",
   "execution_count": 18,
   "id": "9291bc60",
   "metadata": {},
   "outputs": [],
   "source": [
    "import tensorflow as tf"
   ]
  },
  {
   "cell_type": "code",
   "execution_count": 22,
   "id": "88b60892",
   "metadata": {},
   "outputs": [],
   "source": [
    "tf.config.run_functions_eagerly(False)"
   ]
  },
  {
   "cell_type": "code",
   "execution_count": null,
   "id": "c7be6654",
   "metadata": {},
   "outputs": [],
   "source": []
  },
  {
   "cell_type": "code",
   "execution_count": 9,
   "id": "d835c81d",
   "metadata": {},
   "outputs": [],
   "source": [
    "import pandas as pd\n",
    "import numpy as np\n",
    "import matplotlib.pyplot as plt\n",
    "import seaborn as sns\n",
    "from PIL import Image\n",
    "from tensorflow.keras.preprocessing import image\n",
    "%matplotlib inline\n",
    "from tqdm import tqdm"
   ]
  },
  {
   "cell_type": "code",
   "execution_count": 10,
   "id": "d5a9b6a5",
   "metadata": {},
   "outputs": [],
   "source": [
    "basedir = '/Users/vishalverma/Vishal/Kaggle/Cancer detection/Data/histopathologic-cancer-detection/'"
   ]
  },
  {
   "cell_type": "code",
   "execution_count": 11,
   "id": "a1635253",
   "metadata": {},
   "outputs": [],
   "source": [
    "sample_sub = pd.read_csv(basedir + 'sample_submission.csv')\n",
    "train_df1 = pd.read_csv(basedir + 'train_labels.csv')"
   ]
  },
  {
   "cell_type": "markdown",
   "id": "933b22d6",
   "metadata": {},
   "source": [
    "# Images as Matrix"
   ]
  },
  {
   "cell_type": "code",
   "execution_count": 12,
   "id": "2d41ff20",
   "metadata": {},
   "outputs": [],
   "source": [
    "img_lst1 = train_df1.id.reset_index()"
   ]
  },
  {
   "cell_type": "code",
   "execution_count": 13,
   "id": "10ccf327",
   "metadata": {},
   "outputs": [],
   "source": [
    "img_lst1.rename(columns = {'index' : 'unq_key'},inplace = True)"
   ]
  },
  {
   "cell_type": "code",
   "execution_count": 14,
   "id": "4580dd12",
   "metadata": {},
   "outputs": [],
   "source": [
    "## img_inp is dataframe with image name and key\n",
    "\n",
    "def imgtomatrix(path,img_inp):\n",
    "    for idx,row in tqdm(img_inp.iterrows()):\n",
    "        #print(row.id)\n",
    "        #print(row.unq_key)\n",
    "        image1 = image.load_img(path + row.id + '.tif')\n",
    "        \n",
    "        # convert image to. a matrix\n",
    "        img_ts = image.img_to_array(image1)\n",
    "        \n",
    "        \n",
    "        ## convert matrix to 1d array\n",
    "        \n",
    "        img_ts = img_ts.ravel()\n",
    "        \n",
    "        \n",
    "        img_ts1 = [np.insert(img_ts,0,row.unq_key)]\n",
    "        #print(img_ts1)\n",
    "        \n",
    "        ## create array for all images combined\n",
    "        try:\n",
    "            concat_img_df1 = np.concatenate((concat_img_df1,img_ts1))\n",
    "            \n",
    "        except UnboundLocalError:\n",
    "            concat_img_df1 = img_ts1\n",
    "            \n",
    "    return concat_img_df1\n",
    "            \n",
    "        "
   ]
  },
  {
   "cell_type": "code",
   "execution_count": 15,
   "id": "fd621048",
   "metadata": {},
   "outputs": [
    {
     "name": "stderr",
     "output_type": "stream",
     "text": [
      "803it [00:07, 105.57it/s]\n"
     ]
    },
    {
     "ename": "KeyboardInterrupt",
     "evalue": "",
     "output_type": "error",
     "traceback": [
      "\u001b[0;31m---------------------------------------------------------------------------\u001b[0m",
      "\u001b[0;31mKeyboardInterrupt\u001b[0m                         Traceback (most recent call last)",
      "Input \u001b[0;32mIn [15]\u001b[0m, in \u001b[0;36m<cell line: 1>\u001b[0;34m()\u001b[0m\n\u001b[0;32m----> 1\u001b[0m img_matrix1 \u001b[38;5;241m=\u001b[39m \u001b[43mimgtomatrix\u001b[49m\u001b[43m(\u001b[49m\u001b[43mbasedir\u001b[49m\u001b[43m \u001b[49m\u001b[38;5;241;43m+\u001b[39;49m\u001b[43m \u001b[49m\u001b[38;5;124;43m'\u001b[39;49m\u001b[38;5;124;43mtrain/\u001b[39;49m\u001b[38;5;124;43m'\u001b[39;49m\u001b[43m,\u001b[49m\u001b[43mimg_lst1\u001b[49m\u001b[43m[\u001b[49m\u001b[43m:\u001b[49m\u001b[38;5;241;43m2000\u001b[39;49m\u001b[43m]\u001b[49m\u001b[43m)\u001b[49m\n",
      "Input \u001b[0;32mIn [14]\u001b[0m, in \u001b[0;36mimgtomatrix\u001b[0;34m(path, img_inp)\u001b[0m\n\u001b[1;32m     19\u001b[0m \u001b[38;5;66;03m#print(img_ts1)\u001b[39;00m\n\u001b[1;32m     20\u001b[0m \n\u001b[1;32m     21\u001b[0m \u001b[38;5;66;03m## create array for all images combined\u001b[39;00m\n\u001b[1;32m     22\u001b[0m \u001b[38;5;28;01mtry\u001b[39;00m:\n\u001b[0;32m---> 23\u001b[0m     concat_img_df1 \u001b[38;5;241m=\u001b[39m \u001b[43mnp\u001b[49m\u001b[38;5;241;43m.\u001b[39;49m\u001b[43mconcatenate\u001b[49m\u001b[43m(\u001b[49m\u001b[43m(\u001b[49m\u001b[43mconcat_img_df1\u001b[49m\u001b[43m,\u001b[49m\u001b[43mimg_ts1\u001b[49m\u001b[43m)\u001b[49m\u001b[43m)\u001b[49m\n\u001b[1;32m     25\u001b[0m \u001b[38;5;28;01mexcept\u001b[39;00m \u001b[38;5;167;01mUnboundLocalError\u001b[39;00m:\n\u001b[1;32m     26\u001b[0m     concat_img_df1 \u001b[38;5;241m=\u001b[39m img_ts1\n",
      "File \u001b[0;32m<__array_function__ internals>:5\u001b[0m, in \u001b[0;36mconcatenate\u001b[0;34m(*args, **kwargs)\u001b[0m\n",
      "\u001b[0;31mKeyboardInterrupt\u001b[0m: "
     ]
    }
   ],
   "source": [
    "img_matrix1 = imgtomatrix(basedir + 'train/',img_lst1[:2000])"
   ]
  },
  {
   "cell_type": "code",
   "execution_count": null,
   "id": "2ae0d0b4",
   "metadata": {},
   "outputs": [],
   "source": []
  },
  {
   "cell_type": "code",
   "execution_count": null,
   "id": "09ddab9c",
   "metadata": {},
   "outputs": [],
   "source": []
  },
  {
   "cell_type": "code",
   "execution_count": null,
   "id": "05886099",
   "metadata": {},
   "outputs": [],
   "source": []
  },
  {
   "cell_type": "code",
   "execution_count": null,
   "id": "c10dbe62",
   "metadata": {},
   "outputs": [],
   "source": []
  }
 ],
 "metadata": {
  "kernelspec": {
   "display_name": "Python 3 (ipykernel)",
   "language": "python",
   "name": "python3"
  },
  "language_info": {
   "codemirror_mode": {
    "name": "ipython",
    "version": 3
   },
   "file_extension": ".py",
   "mimetype": "text/x-python",
   "name": "python",
   "nbconvert_exporter": "python",
   "pygments_lexer": "ipython3",
   "version": "3.8.13"
  }
 },
 "nbformat": 4,
 "nbformat_minor": 5
}
